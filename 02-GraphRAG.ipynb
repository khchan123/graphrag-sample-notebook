{
 "cells": [
  {
   "cell_type": "markdown",
   "id": "b740e148-218e-4b72-a481-28df121de2df",
   "metadata": {
    "tags": []
   },
   "source": [
    "# Using knowledge graphs to build GraphRAG applications with Amazon Bedrock and Amazon Neptune\n",
    "\n",
    "In this notebook, we will run a GraphRAG sample using Amazon Bedrock and Amazon Neptune. More details can be found on [AWS blog post](https://aws.amazon.com/blogs/database/using-knowledge-graphs-to-build-graphrag-applications-with-amazon-bedrock-and-amazon-neptune/).\n",
    "\n",
    "This is the architecture of the setup.\n",
    "\n",
    "![architecture diagram](https://d2908q01vomqb2.cloudfront.net/887309d048beef83ad3eabf2a79a64a389ab1c9f/2024/07/20/DBBLOG-4251-Architecture.png)"
   ]
  },
  {
   "cell_type": "markdown",
   "id": "5e76f139-d97e-46cb-b626-d80489aaaed9",
   "metadata": {
    "tags": []
   },
   "source": [
    "## Preparation"
   ]
  },
  {
   "cell_type": "code",
   "execution_count": null,
   "id": "3f2088ee-acb3-4dd9-82cf-84d84f7d9e4e",
   "metadata": {
    "tags": []
   },
   "outputs": [],
   "source": [
    "%pip install llama_index==v0.10.68 llama-index-llms-bedrock llama-index-graph-stores-neptune"
   ]
  },
  {
   "cell_type": "markdown",
   "id": "ff181782-ac67-4f9b-9ab4-5f63b41b7f11",
   "metadata": {},
   "source": [
    "Configure the endpoint information. Modify the <b>NEPTUNE_ENDPOINT</b> and <b>NEPTUNE_PORT</b> below then run the command."
   ]
  },
  {
   "cell_type": "code",
   "execution_count": null,
   "id": "733c37b2-ef18-4ff9-98ae-a437044ceef5",
   "metadata": {
    "tags": []
   },
   "outputs": [],
   "source": [
    "neptune_endpoint = 'NEPTUNE_ENDPOINT'\n",
    "neptune_port = 'NEPTUNE_PORT'"
   ]
  },
  {
   "cell_type": "markdown",
   "id": "722a78c1-8521-4964-98cb-ecd44a96c020",
   "metadata": {
    "tags": []
   },
   "source": [
    "## Configure Amazon Bedrock with LlamaIndex"
   ]
  },
  {
   "cell_type": "code",
   "execution_count": null,
   "id": "705c41c0-f319-470e-881a-84a9304a2c1b",
   "metadata": {
    "tags": []
   },
   "outputs": [],
   "source": [
    "from llama_index.llms.bedrock import Bedrock\n",
    "from llama_index.core import Settings\n",
    "\n",
    "llm = Bedrock(model=\"anthropic.claude-3-sonnet-20240229-v1:0\")\n",
    "Settings.llm = llm"
   ]
  },
  {
   "cell_type": "markdown",
   "id": "9eb092a2-32b8-44ab-a130-0c4d58953056",
   "metadata": {
    "tags": []
   },
   "source": [
    "## Integrate Amazon Neptune with LlamaIndex"
   ]
  },
  {
   "cell_type": "code",
   "execution_count": null,
   "id": "a9cea233-bbe0-4504-8c6b-510030b8f1f7",
   "metadata": {
    "tags": []
   },
   "outputs": [],
   "source": [
    "from llama_index.core import StorageContext\n",
    "from llama_index.graph_stores.neptune import NeptuneDatabaseGraphStore\n",
    "\n",
    "graph_store = NeptuneDatabaseGraphStore(\n",
    "    host=neptune_endpoint,\n",
    "    port=neptune_port,\n",
    "    node_label=\"User\"\n",
    ")\n",
    "storage_context = StorageContext.from_defaults(graph_store=graph_store)\n"
   ]
  },
  {
   "cell_type": "markdown",
   "id": "6f942ed6-a875-486b-9416-47b98824f4b9",
   "metadata": {
    "tags": []
   },
   "source": [
    "## Configure the retriever for Neptune"
   ]
  },
  {
   "cell_type": "code",
   "execution_count": null,
   "id": "c6813463-29c3-4236-b272-a3b880a20ee8",
   "metadata": {
    "tags": []
   },
   "outputs": [],
   "source": [
    "from llama_index.core.prompts.base import (\n",
    "    PromptTemplate,\n",
    "    PromptType,\n",
    ")\n",
    "from llama_index.core.query_engine import RetrieverQueryEngine\n",
    "from llama_index.core.retrievers import KnowledgeGraphRAGRetriever\n",
    "\n",
    "ENTITY_EXTRACT_TMPL_STR = \"\"\"\n",
    "A question is provided below. \n",
    "Given the question, extract up to {max_keywords} information that identify a given user in the question. Avoid stopwords.\n",
    "Focus on extracting complete information from question, it can be more than one single word.\n",
    "---------------------\n",
    "{question}\n",
    "---------------------\n",
    "Provide information in the following comma-separated format: 'KEYWORDS: <information>'\n",
    "\"\"\"\n",
    "\n",
    "ENTITY_EXTRACT_PROMPT = PromptTemplate(\n",
    "    ENTITY_EXTRACT_TMPL_STR,\n",
    "    prompt_type=PromptType.QUERY_KEYWORD_EXTRACT,\n",
    ")\n",
    "\n",
    "AMAZON_NEPTUNE_NL2CYPHER_PROMPT_TMPL_STR = \"\"\"\n",
    "Create a **Amazon Neptune flavor Cypher query** based on provided relationship paths and a question.\n",
    "The query should be able to try best answer the question with the given graph schema.\n",
    "The query should follow the following guidance:\n",
    "- Fully qualify property references with the node's label.\n",
    "```\n",
    "// Incorrect\n",
    "MATCH (p:person)-[:follow]->(:person) RETURN p.name\n",
    "// Correct\n",
    "MATCH (p:person)-[:follow]->(i:person) RETURN i.name\n",
    "```\n",
    "- Strictly follow the relationship on schema:\n",
    "Given the relationship ['(:`Art`)-[:`BY_ARTIST`]->(:`Artist`)']:\n",
    "```\n",
    "// Incorrect\n",
    "MATCH (a:Artist)-[:BY_ARTIST]->(t:Art)\n",
    "RETURN DISTINCT t\n",
    "// Correct\n",
    "MATCH (a:Art)-[:BY_ARTIST]->(t:Artist)\n",
    "RETURN DISTINCT t\n",
    "```\n",
    "- Follow single direction (from left to right) query model:\n",
    "```\n",
    "// Incorrect\n",
    "MATCH (a:Artist)<-[:BY_ARTIST]-(t:Art)\n",
    "RETURN DISTINCT t\n",
    "// Correct\n",
    "MATCH (a:Art)-[:BY_ARTIST]->(t:Artist)\n",
    "RETURN DISTINCT t\n",
    "```\n",
    "Given any relationship property, you should just use them following the relationship paths provided, respecting the direction of the relationship path.\n",
    "With these information, construct a Amazon Neptune Cypher query to provide the necessary information for answering the question, only return the plain text query, no explanation, apologies, or other text.\n",
    "NOTE:\n",
    "0. Try to get as much graph data as possible to answer the question\n",
    "1. Put a limit of 30 results in the query.\n",
    "---\n",
    "Question: {query_str}\n",
    "---\n",
    "Schema: {schema}\n",
    "---\n",
    "Amazon Neptune flavor Query:\n",
    "\"\"\"\n",
    "\n",
    "NL2CYPHER_PROMPT = PromptTemplate(\n",
    "    AMAZON_NEPTUNE_NL2CYPHER_PROMPT_TMPL_STR,\n",
    "    prompt_type=PromptType.TEXT_TO_GRAPH_QUERY,\n",
    ")\n",
    "\n",
    "graph_rag_retriever = KnowledgeGraphRAGRetriever(\n",
    "    storage_context=storage_context,\n",
    "    entity_extract_template=ENTITY_EXTRACT_PROMPT,\n",
    "    with_nl2graphquery=True,\n",
    "    graph_query_synthesis_prompt=NL2CYPHER_PROMPT,\n",
    "    graph_traversal_depth=3,\n",
    "    # verbose=True, # verbose for showing query\n",
    ")\n",
    "\n",
    "query_engine = RetrieverQueryEngine.from_args(\n",
    "    graph_rag_retriever,\n",
    "    response_mode=\"refine\"\n",
    ")"
   ]
  },
  {
   "cell_type": "markdown",
   "id": "8408a44f-d92c-4e5b-8bc1-d07aee1fd36b",
   "metadata": {
    "tags": []
   },
   "source": [
    "## Interact with the knowledge graph\n"
   ]
  },
  {
   "cell_type": "markdown",
   "id": "50583fb7-764f-4ac6-853b-18b07c429af3",
   "metadata": {
    "tags": []
   },
   "source": [
    "### Example 1: Armand Aglione"
   ]
  },
  {
   "cell_type": "code",
   "execution_count": 154,
   "id": "225bb169-5518-4c7b-8a51-77a94a04ef6c",
   "metadata": {
    "tags": []
   },
   "outputs": [
    {
     "data": {
      "text/markdown": [
       "<b>Hello Armand,\n",
       "\n",
       "Based on the information provided, you are located in Tyler, Texas, United States. For customers in your region, I would recommend considering the latest models of tablets and smartphones from popular brands like Apple, Samsung, and Microsoft.\n",
       "\n",
       "Some options you may want to explore:\n",
       "\n",
       "Apple iPad Pro (2022 model) - This high-end tablet features the powerful M2 chip, a stunning Liquid Retina XDR display, and advanced cameras. It's perfect for productivity, creativity, and entertainment.\n",
       "\n",
       "Samsung Galaxy S23 Ultra - Samsung's flagship smartphone boasts a brilliant 6.8-inch Dynamic AMOLED display, a top-of-the-line camera system, and the latest Snapdragon 8 Gen 2 processor for seamless performance.\n",
       "\n",
       "Microsoft Surface Pro 9 - This versatile 2-in-1 device combines the power of a laptop with the portability of a tablet. It features a vibrant PixelSense display, Intel's latest processors, and excellent stylus support.\n",
       "\n",
       "Please confirm if the contact information we have on file is correct: Tyler, Texas, United States. I'm happy to provide more details or recommendations based on your specific needs and preferences. Let me know if you have any other questions!</b>"
      ],
      "text/plain": [
       "<IPython.core.display.Markdown object>"
      ]
     },
     "metadata": {},
     "output_type": "display_data"
    }
   ],
   "source": [
    "from IPython.display import display, Markdown\n",
    "\n",
    "response = query_engine.query(\n",
    "\"\"\"\n",
    "You are a marketing analyst in a Technology retail company, mainly focused on selling notebooks, smartphones and tablets from popular brands.\n",
    "\n",
    "You need to create hyper-personalized product recommendation for this customer.\n",
    "\n",
    "Instructions for using the provided information about customer:\n",
    "\n",
    "1. You should recommend products similar to device models used by customer\n",
    "\n",
    "```\n",
    "// Example\n",
    "Given the user agent: Mozilla/5.0 (x11; Linux Amd64) Apple Web Kit/534.36 (khtml, Like Gecko) Chrome/13.0.766.0 Safari/534.36\n",
    "The device model is: x11; Linux Amd64\n",
    "```\n",
    "\n",
    "2. Web browser information is irrelevant\n",
    "3. Geographic information should be used to personalize your recommendation\n",
    "4. Ask for confirmation about contact information\n",
    "\n",
    "Notes:\n",
    "- Keep communication friendly and focused on recommending products models\n",
    "- Include technical details about recommended products models\n",
    "- Avoid mentioning your role\n",
    "- Avoid mentioning you are performing a personalized recommendation\n",
    "- Conclude by putting yourself available to support customer and answer questions\n",
    "\n",
    "Customer: <id>Armand Aglione</id>\n",
    "\"\"\",\n",
    ")\n",
    "display(Markdown(f\"<b>{response}</b>\"))"
   ]
  },
  {
   "cell_type": "code",
   "execution_count": 155,
   "id": "0047a2d0-f945-44d9-9110-8e63fe695cc5",
   "metadata": {
    "tags": []
   },
   "outputs": [
    {
     "data": {
      "text/markdown": [
       "<b>Based on the graph query response, the customer Armand Aglione has used two different devices:\n",
       "\n",
       "1. A device with the user agent \"Mozilla/5.0 (X11; OpenBSD i386) AppleWebKit/537.36 (KHTML, like Gecko) Chrome/36.0.1985.125 Safari/537.36\". This appears to be an OpenBSD system running on an i386 architecture.\n",
       "\n",
       "2. A device with the user agent \"Mozilla/5.0 (Macintosh; Intel Mac OS X 10_6_8) AppleWebKit/535.1 (KHTML, like Gecko) Chrome/13.0.782.24 Safari/535.1\". This is an Apple device running Mac OS X 10.6.8 on an Intel processor.\n",
       "\n",
       "So to answer the original query, Armand Aglione has used both non-Apple (OpenBSD) and Apple (Mac OS X) devices based on the user agent information provided in the graph query response.</b>"
      ],
      "text/plain": [
       "<IPython.core.display.Markdown object>"
      ]
     },
     "metadata": {},
     "output_type": "display_data"
    }
   ],
   "source": [
    "from IPython.display import display, Markdown\n",
    "\n",
    "response = query_engine.query(\n",
    "\"\"\"\n",
    "What device is used by this customer? Is this customer using Apple devices?\n",
    "\n",
    "Instructions:\n",
    "1. You can find the device model according to the user agent.\n",
    "```\n",
    "// Example\n",
    "Given the user agent: Mozilla/5.0 (x11; Linux Amd64) Apple Web Kit/534.36 (khtml, Like Gecko) Chrome/13.0.766.0 Safari/534.36\n",
    "The device model is: x11; Linux Amd64\n",
    "```\n",
    "\n",
    "Customer: <id>Armand Aglione</id>\n",
    "\"\"\",\n",
    ")\n",
    "display(Markdown(f\"<b>{response}</b>\"))"
   ]
  },
  {
   "cell_type": "markdown",
   "id": "7eba2a9f-d95d-484d-83b8-71f0f3c84ae5",
   "metadata": {
    "tags": []
   },
   "source": [
    "### Example 2: Dedie Doni"
   ]
  },
  {
   "cell_type": "code",
   "execution_count": 156,
   "id": "533ce569-b30b-4b5b-9822-e9b034f9cee3",
   "metadata": {
    "tags": []
   },
   "outputs": [
    {
     "data": {
      "text/markdown": [
       "<b>Hello Dedie,\n",
       "\n",
       "Based on your interests, I would recommend trying our Organic Vegetable Broth, Artisanal Cheese Platter, and Sparkling Rosé Wine. These products complement the items you've enjoyed in the past.\n",
       "\n",
       "Your contact information shows your email as ddoni3@neptunedemos.com and phone number as 610-273-XXXX, residing at 1 Westport Plaza, Philadelphia, Pennsylvania, United States. Could you please confirm if these details are correct?\n",
       "\n",
       "I'm happy to provide any additional product suggestions or answer any questions you may have. Please feel free to reach out.</b>"
      ],
      "text/plain": [
       "<IPython.core.display.Markdown object>"
      ]
     },
     "metadata": {},
     "output_type": "display_data"
    }
   ],
   "source": [
    "from IPython.display import display, Markdown\n",
    "\n",
    "response = query_engine.query(\n",
    "\"\"\"\n",
    "You are a marketing analyst for an online store. You need to create product recommendation for this customer.\n",
    "\n",
    "Instructions for using the provided information about customer:\n",
    "\n",
    "1. You should recommend new products based on the purchase history.\n",
    "2. Ask for confirmation about contact information\n",
    "\n",
    "Notes:\n",
    "- Keep communication friendly\n",
    "- Avoid mentioning your role\n",
    "- Avoid mentioning you are performing a personalized recommendation\n",
    "- Avoid mentioning you are referring to previously purchased products\n",
    "- Conclude by putting yourself available to support customer and answer questions\n",
    "\n",
    "Customer: <id>Dedie Doni</id>\n",
    "\"\"\",\n",
    ")\n",
    "display(Markdown(f\"<b>{response}</b>\"))"
   ]
  },
  {
   "cell_type": "code",
   "execution_count": 157,
   "id": "956875e9-8287-49bd-a599-69a480514be8",
   "metadata": {
    "tags": []
   },
   "outputs": [
    {
     "data": {
      "text/markdown": [
       "<b>Based on the graph query response, the products that the customer Dedie Doni has purchased before are:\n",
       "\n",
       "- Wine - Sicilia Igt Nero Avola\n",
       "- Tea - Honey Green Tea  \n",
       "- Eggplant - Regular\n",
       "- Bagel - Whole White Sesame\n",
       "- Beef - Tender Tips\n",
       "- Tea - Herbal Sweet Dreams</b>"
      ],
      "text/plain": [
       "<IPython.core.display.Markdown object>"
      ]
     },
     "metadata": {},
     "output_type": "display_data"
    }
   ],
   "source": [
    "from IPython.display import display, Markdown\n",
    "\n",
    "response = query_engine.query(\n",
    "\"\"\"\n",
    "List the products this customer purchased before.\n",
    "\n",
    "Customer: <id>Dedie Doni</id>\n",
    "\"\"\",\n",
    ")\n",
    "display(Markdown(f\"<b>{response}</b>\"))"
   ]
  },
  {
   "cell_type": "code",
   "execution_count": null,
   "id": "8498e926-75d9-4944-8e19-d98ea467b198",
   "metadata": {
    "tags": []
   },
   "outputs": [],
   "source": [
    "from IPython.display import display, Markdown\n",
    "\n",
    "response = query_engine.query(\n",
    "\"\"\"\n",
    "Should I recommend this user to buy iPhone?\n",
    "\n",
    "Customer: <id>Dedie Doni</id>\n",
    "\"\"\",\n",
    ")\n",
    "display(Markdown(f\"<b>{response}</b>\"))"
   ]
  }
 ],
 "metadata": {
  "kernelspec": {
   "display_name": "conda_python3",
   "language": "python",
   "name": "conda_python3"
  },
  "language_info": {
   "codemirror_mode": {
    "name": "ipython",
    "version": 3
   },
   "file_extension": ".py",
   "mimetype": "text/x-python",
   "name": "python",
   "nbconvert_exporter": "python",
   "pygments_lexer": "ipython3",
   "version": "3.10.14"
  }
 },
 "nbformat": 4,
 "nbformat_minor": 5
}
